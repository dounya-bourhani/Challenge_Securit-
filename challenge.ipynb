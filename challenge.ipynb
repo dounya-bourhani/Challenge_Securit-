{
 "cells": [
  {
   "cell_type": "markdown",
   "metadata": {},
   "source": [
    "## Importation des données"
   ]
  },
  {
   "cell_type": "code",
   "execution_count": 16,
   "metadata": {},
   "outputs": [
    {
     "data": {
      "text/html": [
       "<div>\n",
       "<style scoped>\n",
       "    .dataframe tbody tr th:only-of-type {\n",
       "        vertical-align: middle;\n",
       "    }\n",
       "\n",
       "    .dataframe tbody tr th {\n",
       "        vertical-align: top;\n",
       "    }\n",
       "\n",
       "    .dataframe thead th {\n",
       "        text-align: right;\n",
       "    }\n",
       "</style>\n",
       "<table border=\"1\" class=\"dataframe\">\n",
       "  <thead>\n",
       "    <tr style=\"text-align: right;\">\n",
       "      <th></th>\n",
       "      <th>datetime</th>\n",
       "      <th>ipsrc</th>\n",
       "      <th>ipdst</th>\n",
       "      <th>dstport</th>\n",
       "      <th>proto</th>\n",
       "      <th>action</th>\n",
       "      <th>policyid</th>\n",
       "    </tr>\n",
       "  </thead>\n",
       "  <tbody>\n",
       "    <tr>\n",
       "      <th>0</th>\n",
       "      <td>2024-03-11 11:54:04</td>\n",
       "      <td>192.168.182.1</td>\n",
       "      <td>192.168.182.130</td>\n",
       "      <td>58918.0</td>\n",
       "      <td>TCP</td>\n",
       "      <td>Deny</td>\n",
       "      <td>34.0</td>\n",
       "    </tr>\n",
       "    <tr>\n",
       "      <th>1</th>\n",
       "      <td>2024-03-11 11:54:04</td>\n",
       "      <td>192.168.182.1</td>\n",
       "      <td>192.168.182.130</td>\n",
       "      <td>58918.0</td>\n",
       "      <td>TCP</td>\n",
       "      <td>Deny</td>\n",
       "      <td>34.0</td>\n",
       "    </tr>\n",
       "    <tr>\n",
       "      <th>2</th>\n",
       "      <td>2024-03-11 11:54:29</td>\n",
       "      <td>159.84.181.226</td>\n",
       "      <td>192.168.182.130</td>\n",
       "      <td>34106.0</td>\n",
       "      <td>TCP</td>\n",
       "      <td>Deny</td>\n",
       "      <td>34.0</td>\n",
       "    </tr>\n",
       "    <tr>\n",
       "      <th>3</th>\n",
       "      <td>2024-03-11 11:54:29</td>\n",
       "      <td>192.168.182.1</td>\n",
       "      <td>192.168.182.130</td>\n",
       "      <td>58918.0</td>\n",
       "      <td>TCP</td>\n",
       "      <td>Deny</td>\n",
       "      <td>34.0</td>\n",
       "    </tr>\n",
       "    <tr>\n",
       "      <th>4</th>\n",
       "      <td>2024-03-11 11:54:29</td>\n",
       "      <td>192.168.182.1</td>\n",
       "      <td>192.168.182.130</td>\n",
       "      <td>58918.0</td>\n",
       "      <td>TCP</td>\n",
       "      <td>Deny</td>\n",
       "      <td>34.0</td>\n",
       "    </tr>\n",
       "  </tbody>\n",
       "</table>\n",
       "</div>"
      ],
      "text/plain": [
       "              datetime           ipsrc            ipdst  dstport proto action  \\\n",
       "0  2024-03-11 11:54:04   192.168.182.1  192.168.182.130  58918.0   TCP   Deny   \n",
       "1  2024-03-11 11:54:04   192.168.182.1  192.168.182.130  58918.0   TCP   Deny   \n",
       "2  2024-03-11 11:54:29  159.84.181.226  192.168.182.130  34106.0   TCP   Deny   \n",
       "3  2024-03-11 11:54:29   192.168.182.1  192.168.182.130  58918.0   TCP   Deny   \n",
       "4  2024-03-11 11:54:29   192.168.182.1  192.168.182.130  58918.0   TCP   Deny   \n",
       "\n",
       "   policyid  \n",
       "0      34.0  \n",
       "1      34.0  \n",
       "2      34.0  \n",
       "3      34.0  \n",
       "4      34.0  "
      ]
     },
     "execution_count": 16,
     "metadata": {},
     "output_type": "execute_result"
    }
   ],
   "source": [
    "import pandas as pd\n",
    "\n",
    "logs = pd.read_csv(\"FW_3.csv\")\n",
    "\n",
    "logs.head()"
   ]
  },
  {
   "cell_type": "code",
   "execution_count": 17,
   "metadata": {},
   "outputs": [
    {
     "name": "stdout",
     "output_type": "stream",
     "text": [
      "(2905, 7)\n",
      "<class 'pandas.core.frame.DataFrame'>\n",
      "RangeIndex: 2905 entries, 0 to 2904\n",
      "Data columns (total 7 columns):\n",
      " #   Column    Non-Null Count  Dtype  \n",
      "---  ------    --------------  -----  \n",
      " 0   datetime  2905 non-null   object \n",
      " 1   ipsrc     2903 non-null   object \n",
      " 2   ipdst     2903 non-null   object \n",
      " 3   dstport   2903 non-null   float64\n",
      " 4   proto     2903 non-null   object \n",
      " 5   action    2903 non-null   object \n",
      " 6   policyid  2903 non-null   float64\n",
      "dtypes: float64(2), object(5)\n",
      "memory usage: 159.0+ KB\n",
      "None\n"
     ]
    }
   ],
   "source": [
    "print(logs.shape)\n",
    "print(logs.info())"
   ]
  },
  {
   "cell_type": "code",
   "execution_count": 18,
   "metadata": {},
   "outputs": [
    {
     "name": "stdout",
     "output_type": "stream",
     "text": [
      "2\n",
      "                datetime ipsrc ipdst  dstport proto action  policyid\n",
      "513  2024-03-11 19:19:49   NaN   NaN      NaN   NaN    NaN       NaN\n",
      "514  2024-03-11 19:39:49   NaN   NaN      NaN   NaN    NaN       NaN\n",
      "(2903, 7)\n"
     ]
    }
   ],
   "source": [
    "# ligne vide à supprimer\n",
    "\n",
    "print(sum(logs['dstport'].isna()))\n",
    "print(logs[logs['dstport'].isna()])\n",
    "logs = logs.drop([513,514])\n",
    "print(logs.shape)"
   ]
  },
  {
   "cell_type": "code",
   "execution_count": 19,
   "metadata": {},
   "outputs": [
    {
     "data": {
      "text/html": [
       "<div>\n",
       "<style scoped>\n",
       "    .dataframe tbody tr th:only-of-type {\n",
       "        vertical-align: middle;\n",
       "    }\n",
       "\n",
       "    .dataframe tbody tr th {\n",
       "        vertical-align: top;\n",
       "    }\n",
       "\n",
       "    .dataframe thead th {\n",
       "        text-align: right;\n",
       "    }\n",
       "</style>\n",
       "<table border=\"1\" class=\"dataframe\">\n",
       "  <thead>\n",
       "    <tr style=\"text-align: right;\">\n",
       "      <th></th>\n",
       "      <th>datetime</th>\n",
       "      <th>ipsrc</th>\n",
       "      <th>ipdst</th>\n",
       "      <th>dstport</th>\n",
       "      <th>proto</th>\n",
       "      <th>action</th>\n",
       "      <th>policyid</th>\n",
       "    </tr>\n",
       "  </thead>\n",
       "  <tbody>\n",
       "    <tr>\n",
       "      <th>0</th>\n",
       "      <td>2024-03-11 11:54:04</td>\n",
       "      <td>192.168.182.1</td>\n",
       "      <td>192.168.182.130</td>\n",
       "      <td>58918</td>\n",
       "      <td>TCP</td>\n",
       "      <td>Deny</td>\n",
       "      <td>34</td>\n",
       "    </tr>\n",
       "    <tr>\n",
       "      <th>1</th>\n",
       "      <td>2024-03-11 11:54:04</td>\n",
       "      <td>192.168.182.1</td>\n",
       "      <td>192.168.182.130</td>\n",
       "      <td>58918</td>\n",
       "      <td>TCP</td>\n",
       "      <td>Deny</td>\n",
       "      <td>34</td>\n",
       "    </tr>\n",
       "    <tr>\n",
       "      <th>2</th>\n",
       "      <td>2024-03-11 11:54:29</td>\n",
       "      <td>159.84.181.226</td>\n",
       "      <td>192.168.182.130</td>\n",
       "      <td>34106</td>\n",
       "      <td>TCP</td>\n",
       "      <td>Deny</td>\n",
       "      <td>34</td>\n",
       "    </tr>\n",
       "    <tr>\n",
       "      <th>3</th>\n",
       "      <td>2024-03-11 11:54:29</td>\n",
       "      <td>192.168.182.1</td>\n",
       "      <td>192.168.182.130</td>\n",
       "      <td>58918</td>\n",
       "      <td>TCP</td>\n",
       "      <td>Deny</td>\n",
       "      <td>34</td>\n",
       "    </tr>\n",
       "    <tr>\n",
       "      <th>4</th>\n",
       "      <td>2024-03-11 11:54:29</td>\n",
       "      <td>192.168.182.1</td>\n",
       "      <td>192.168.182.130</td>\n",
       "      <td>58918</td>\n",
       "      <td>TCP</td>\n",
       "      <td>Deny</td>\n",
       "      <td>34</td>\n",
       "    </tr>\n",
       "  </tbody>\n",
       "</table>\n",
       "</div>"
      ],
      "text/plain": [
       "              datetime           ipsrc            ipdst dstport proto action  \\\n",
       "0  2024-03-11 11:54:04   192.168.182.1  192.168.182.130   58918   TCP   Deny   \n",
       "1  2024-03-11 11:54:04   192.168.182.1  192.168.182.130   58918   TCP   Deny   \n",
       "2  2024-03-11 11:54:29  159.84.181.226  192.168.182.130   34106   TCP   Deny   \n",
       "3  2024-03-11 11:54:29   192.168.182.1  192.168.182.130   58918   TCP   Deny   \n",
       "4  2024-03-11 11:54:29   192.168.182.1  192.168.182.130   58918   TCP   Deny   \n",
       "\n",
       "  policyid  \n",
       "0       34  \n",
       "1       34  \n",
       "2       34  \n",
       "3       34  \n",
       "4       34  "
      ]
     },
     "execution_count": 19,
     "metadata": {},
     "output_type": "execute_result"
    }
   ],
   "source": [
    "logs['dstport'] = logs['dstport'].astype(int).astype(str)\n",
    "logs['policyid'] = logs['policyid'].astype(int).astype(str)\n",
    "logs.head()"
   ]
  },
  {
   "cell_type": "code",
   "execution_count": 25,
   "metadata": {},
   "outputs": [],
   "source": [
    "ip_bad = [\"10.0.0.1\", \"192.168.4.1\", \"172.156.2.26\", \"192.168.1.0\", \"10.10.1.101\", \"89.89.56.2\", \"28.12.15.20\",\n",
    "\"10.172.11.2\", \"194.25.56.2\", \"172.5.2.8\"]"
   ]
  },
  {
   "cell_type": "code",
   "execution_count": 42,
   "metadata": {},
   "outputs": [
    {
     "name": "stdout",
     "output_type": "stream",
     "text": [
      "Nombre d'ip malveillantes : 25\n"
     ]
    }
   ],
   "source": [
    "print(f\"Nombre d'ip malveillantes : {sum(logs['ipsrc'].isin(ip_bad))}\")\n",
    "logs['is_ip_bad'] = logs['ipsrc'].isin(ip_bad)"
   ]
  },
  {
   "cell_type": "code",
   "execution_count": 46,
   "metadata": {},
   "outputs": [
    {
     "data": {
      "text/plain": [
       "is_ip_bad\n",
       "False    2878\n",
       "True       25\n",
       "Name: count, dtype: int64"
      ]
     },
     "execution_count": 46,
     "metadata": {},
     "output_type": "execute_result"
    }
   ],
   "source": [
    "logs['is_ip_bad'].value_counts() "
   ]
  },
  {
   "cell_type": "markdown",
   "metadata": {},
   "source": [
    "## Serie temporelle"
   ]
  },
  {
   "cell_type": "code",
   "execution_count": 72,
   "metadata": {},
   "outputs": [
    {
     "data": {
      "text/html": [
       "<div>\n",
       "<style scoped>\n",
       "    .dataframe tbody tr th:only-of-type {\n",
       "        vertical-align: middle;\n",
       "    }\n",
       "\n",
       "    .dataframe tbody tr th {\n",
       "        vertical-align: top;\n",
       "    }\n",
       "\n",
       "    .dataframe thead th {\n",
       "        text-align: right;\n",
       "    }\n",
       "</style>\n",
       "<table border=\"1\" class=\"dataframe\">\n",
       "  <thead>\n",
       "    <tr style=\"text-align: right;\">\n",
       "      <th></th>\n",
       "      <th>Jour</th>\n",
       "      <th>Number of ip_bad</th>\n",
       "    </tr>\n",
       "  </thead>\n",
       "  <tbody>\n",
       "    <tr>\n",
       "      <th>0</th>\n",
       "      <td>2024-03-12</td>\n",
       "      <td>25</td>\n",
       "    </tr>\n",
       "  </tbody>\n",
       "</table>\n",
       "</div>"
      ],
      "text/plain": [
       "         Jour  Number of ip_bad\n",
       "0  2024-03-12                25"
      ]
     },
     "execution_count": 72,
     "metadata": {},
     "output_type": "execute_result"
    }
   ],
   "source": [
    "# Convertir la colonne 'datetime' en format datetime\n",
    "logs['datetime'] = pd.to_datetime(logs['datetime'])\n",
    "\n",
    "# Créer une nouvelle colonne 'Date par jour'\n",
    "logs['Jour'] = logs['datetime'].dt.date\n",
    "\n",
    "# Grouper par 'Jour' et compter le nombre d'occurrences de 'is_ip_bad=True'\n",
    "ts = logs[logs['is_ip_bad']].groupby('Jour').size().reset_index(name='Number of ip_bad')\n",
    "\n",
    "# Afficher le résultat\n",
    "ts"
   ]
  },
  {
   "cell_type": "markdown",
   "metadata": {},
   "source": [
    "Pas de serie temporelle les intrusions malveillantes sont toutes le même jour."
   ]
  },
  {
   "cell_type": "markdown",
   "metadata": {},
   "source": [
    "## Classification"
   ]
  },
  {
   "cell_type": "code",
   "execution_count": 117,
   "metadata": {},
   "outputs": [],
   "source": [
    "import pandas as pd\n",
    "logs = pd.read_csv(\"attacks.csv\")"
   ]
  },
  {
   "cell_type": "code",
   "execution_count": 113,
   "metadata": {},
   "outputs": [],
   "source": [
    "# # random over sampling\n",
    "\n",
    "# majority_class = logs[logs['is_ip_bad'] == False]\n",
    "# minority_class = logs[logs['is_ip_bad'] == True]\n",
    "\n",
    "# # Dupliquer aléatoirement des exemples de la classe minoritaire\n",
    "# oversampled_minority = minority_class.sample(n=len(majority_class), replace=True, random_state=42)\n",
    "\n",
    "# # Concaténer les classes majoritaires et minoritaires suréchantillonnées\n",
    "# logs = pd.concat([majority_class, oversampled_minority])"
   ]
  },
  {
   "cell_type": "code",
   "execution_count": 118,
   "metadata": {},
   "outputs": [
    {
     "name": "stdout",
     "output_type": "stream",
     "text": [
      "(2032, 347)\n",
      "(871, 347)\n",
      "(2032,)\n",
      "(871,)\n"
     ]
    }
   ],
   "source": [
    "from sklearn.model_selection import train_test_split\n",
    "\n",
    "Xcols = [\"ipsrc\", \"ipdst\", \"dstport\", \"proto\", \"action\", \"policyid\"]\n",
    "X = logs[Xcols]\n",
    "y = logs.is_ip_bad\n",
    "\n",
    "from sklearn.preprocessing import LabelEncoder, OneHotEncoder\n",
    "# Convertir les variables catégorielles en numériques avec LabelEncoder\n",
    "label_encoder = LabelEncoder()\n",
    "X_encoded = X.apply(label_encoder.fit_transform)\n",
    "\n",
    "# Utiliser l'encodage One-Hot pour traiter les variables catégorielles\n",
    "onehot_encoder = OneHotEncoder(sparse_output=False, drop='first')  # drop='first' pour éviter la colinéarité\n",
    "X_encoded_onehot = onehot_encoder.fit_transform(X_encoded)\n",
    "\n",
    "X_train, X_test, y_train, y_test = train_test_split(X_encoded_onehot, y, test_size=0.3, random_state=42)\n",
    "\n",
    "print(X_train.shape)\n",
    "print(X_test.shape)\n",
    "print(y_train.shape)\n",
    "print(y_test.shape)"
   ]
  },
  {
   "cell_type": "code",
   "execution_count": 119,
   "metadata": {},
   "outputs": [
    {
     "name": "stdout",
     "output_type": "stream",
     "text": [
      "(4032, 347)\n",
      "(4032,)\n"
     ]
    }
   ],
   "source": [
    "# Oversampling avec méthoe SMOTE\n",
    "from imblearn.over_sampling import SMOTENC\n",
    "\n",
    "# Appliquer SMOTE sur l'ensemble d'entraînement\n",
    "smote = SMOTENC(categorical_features=[0, 1, 3, 4], random_state=42) #dstport et policyid en tant que numerical_feature\n",
    "X_train_resampled, y_train_resampled = smote.fit_resample(X_train, y_train)\n",
    "\n",
    "print(X_train_resampled.shape)\n",
    "print(y_train_resampled.shape)"
   ]
  },
  {
   "cell_type": "code",
   "execution_count": 120,
   "metadata": {},
   "outputs": [
    {
     "data": {
      "text/plain": [
       "is_ip_bad\n",
       "False    2016\n",
       "True     2016\n",
       "Name: count, dtype: int64"
      ]
     },
     "execution_count": 120,
     "metadata": {},
     "output_type": "execute_result"
    }
   ],
   "source": [
    "y_train_resampled.value_counts()"
   ]
  },
  {
   "cell_type": "code",
   "execution_count": 108,
   "metadata": {},
   "outputs": [
    {
     "name": "stdout",
     "output_type": "stream",
     "text": [
      "Accuracy : 0.9931113662456946\n",
      "Precision : 1.0\n",
      "Recall : 0.3333333333333333\n",
      "F1 score : 0.5\n",
      "Matrice de confusion : \n",
      " [[862   0]\n",
      " [  6   3]]\n"
     ]
    }
   ],
   "source": [
    "from sklearn.ensemble import RandomForestClassifier\n",
    "from sklearn.metrics import accuracy_score, confusion_matrix, f1_score, precision_score, recall_score, auc\n",
    "\n",
    "\n",
    "# Entraîner un modèle de classification (par exemple, Random Forest)\n",
    "model = RandomForestClassifier(random_state=42)\n",
    "model.fit(X_train_resampled, y_train_resampled)\n",
    "\n",
    "# Faire des prédictions sur l'ensemble de test\n",
    "y_pred = model.predict(X_test)\n",
    "\n",
    "# Afficher le rapport de classification\n",
    "print(f\"Accuracy : {accuracy_score(y_test, y_pred)}\")\n",
    "print(f\"Precision : {precision_score(y_test, y_pred)}\")\n",
    "print(f\"Recall : {recall_score(y_test, y_pred)}\")\n",
    "print(f\"F1 score : {f1_score(y_test, y_pred)}\")\n",
    "print(f\"Matrice de confusion : \\n {confusion_matrix(y_test, y_pred)}\")\n"
   ]
  },
  {
   "cell_type": "code",
   "execution_count": 123,
   "metadata": {},
   "outputs": [
    {
     "name": "stdout",
     "output_type": "stream",
     "text": [
      "Meilleurs hyperparamètres : {'max_depth': None, 'min_samples_leaf': 1, 'min_samples_split': 2, 'n_estimators': 50}\n",
      "Meilleur score de rappel (recall) : 0.6399999999999999\n"
     ]
    }
   ],
   "source": [
    "from sklearn.model_selection import cross_val_score\n",
    "from sklearn.ensemble import RandomForestClassifier\n",
    "from sklearn.model_selection import GridSearchCV\n",
    "import numpy as np\n",
    "\n",
    "# Initialiser le modèle Random Forest\n",
    "model = RandomForestClassifier(random_state=42)\n",
    "\n",
    "# Définir la grille des hyperparamètres à rechercher\n",
    "param_grid = {\n",
    "    'n_estimators': [50, 100, 200],\n",
    "    'max_depth': [None, 10, 20],\n",
    "    'min_samples_split': [2, 5, 10],\n",
    "    'min_samples_leaf': [1, 2, 4]\n",
    "}\n",
    "\n",
    "# Initialiser l'objet GridSearchCV\n",
    "grid_search = GridSearchCV(estimator=model, param_grid=param_grid, cv=5, scoring='recall', n_jobs=-1)\n",
    "\n",
    "# Exécuter la recherche sur la grille\n",
    "grid_search.fit(X_encoded_onehot, y)\n",
    "\n",
    "# Afficher les meilleurs hyperparamètres et le meilleur score\n",
    "print(\"Meilleurs hyperparamètres :\", grid_search.best_params_)\n",
    "print(\"Meilleur score de rappel (recall) :\", grid_search.best_score_)"
   ]
  },
  {
   "cell_type": "code",
   "execution_count": 126,
   "metadata": {},
   "outputs": [],
   "source": [
    "import pickle\n",
    "\n",
    "# Sauvegarder le modèle en utilisant pickle\n",
    "best_model = grid_search.best_estimator_\n",
    "with open('random_forest_model.pkl', 'wb') as model_file:\n",
    "    pickle.dump(best_model, model_file)"
   ]
  }
 ],
 "metadata": {
  "kernelspec": {
   "display_name": "Python 3",
   "language": "python",
   "name": "python3"
  },
  "language_info": {
   "codemirror_mode": {
    "name": "ipython",
    "version": 3
   },
   "file_extension": ".py",
   "mimetype": "text/x-python",
   "name": "python",
   "nbconvert_exporter": "python",
   "pygments_lexer": "ipython3",
   "version": "3.12.0"
  }
 },
 "nbformat": 4,
 "nbformat_minor": 2
}
